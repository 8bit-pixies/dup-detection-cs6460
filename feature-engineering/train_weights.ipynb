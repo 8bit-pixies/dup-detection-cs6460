{
 "cells": [
  {
   "cell_type": "code",
   "execution_count": 89,
   "metadata": {
    "collapsed": false
   },
   "outputs": [],
   "source": [
    "%matplotlib inline\n",
    "from IPython.html.widgets import FloatProgress\n",
    "from IPython.display import display"
   ]
  },
  {
   "cell_type": "code",
   "execution_count": 90,
   "metadata": {
    "collapsed": false
   },
   "outputs": [],
   "source": [
    "\n",
    "import gensim\n",
    "import pandas as pd\n",
    "import numpy as np\n",
    "from sklearn.metrics import recall_score, make_scorer, confusion_matrix, precision_score\n",
    "from sklearn.grid_search import GridSearchCV\n",
    "from sklearn.ensemble import RandomForestClassifier\n",
    "\n",
    "import matplotlib.pyplot as plt\n",
    "\n",
    "from create_dictionary import train_corpus, transform_doc2bow, tokenize\n",
    "from sklearn.metrics.pairwise import cosine_similarity\n",
    "\n",
    "from online_lsi_sim import sim_two_lsi, sim_all_lsi\n",
    "from online_lda_sim import sim_two_lda, sim_all_lda\n",
    "from word2vec_sim import sim_two_w2v, sim_all_w2v\n",
    "from doc_sim import sim_two, sim_all\n",
    "\n",
    "from create_model import *\n"
   ]
  },
  {
   "cell_type": "code",
   "execution_count": 91,
   "metadata": {
    "collapsed": false
   },
   "outputs": [
    {
     "name": "stdout",
     "output_type": "stream",
     "text": [
      "training lda...\n",
      "training lsi...\n",
      "training word2vec...\n"
     ]
    },
    {
     "data": {
      "text/plain": [
       "227101"
      ]
     },
     "execution_count": 91,
     "metadata": {},
     "output_type": "execute_result"
    }
   ],
   "source": [
    "\n",
    "dictionary = gensim.corpora.Dictionary.load(\"../data/SESE.gz\")\n",
    "fname = \"../SESE/cleaned/sql-html-sample.csv\"\n",
    "\n",
    "so_dat = pd.read_csv(fname)\n",
    "so_dat_main = so_dat[['id', 'title', 'bodyString', 'tagsString']]\n",
    "\n",
    "label_dat = pd.read_csv(\"../SESE/labels/sql-html-js-2_labels.csv\")\n",
    "\n",
    "\n",
    "# build each feature, and model\n",
    "corpus = train_corpus(so_dat_main['bodyString'].tolist(), dictionary)\n",
    "\n",
    "# all these models have online learning support\n",
    "print \"training lda...\"\n",
    "lda_mod = gensim.models.ldamodel.LdaModel(corpus, id2word=dictionary, num_topics=7, minimum_probability=0.0)\n",
    "print \"training lsi...\"\n",
    "lsi_mod = gensim.models.lsimodel.LsiModel(corpus, id2word=dictionary, num_topics=100)\n",
    "print \"training word2vec...\"\n",
    "w2v_mod = gensim.models.Word2Vec(min_count=5, sg=5)\n",
    "sentences = [tokenize(x) for x in so_dat_main['bodyString'].tolist()]\n",
    "w2v_mod.build_vocab(sentences )\n",
    "w2v_mod.train(sentences)"
   ]
  },
  {
   "cell_type": "code",
   "execution_count": 92,
   "metadata": {
    "collapsed": true
   },
   "outputs": [],
   "source": [
    "\n",
    "# do left join with labels.....\n",
    "dat_combine = pd.merge(so_dat_main, label_dat)\n",
    "\n",
    "# basically perform negative sampling to find weights to optimize these two cases....\n",
    "\n",
    "# do stuff and output training dataset....(figure out how...)\n",
    "# will be adhoc for future...\n",
    "\n",
    "# train for recall..\n",
    "\n",
    "# get the dups...\n",
    "train = pd.read_csv(\"../SESE/cleaned/2016_link_dups_time_fix.csv\")"
   ]
  },
  {
   "cell_type": "code",
   "execution_count": 93,
   "metadata": {
    "collapsed": true
   },
   "outputs": [],
   "source": [
    "def sim_query_all(single, docs, dictionary,\n",
    "              lsi_mod, lda_mod, w2v_mod, prefix=\"\"):\n",
    "    \"\"\"takes in two documents and computes similarity between\n",
    "    both based on the models above, with all equal weights\"\"\"\n",
    "    \n",
    "    sim_vec = {'lsi': sim_all_lsi(single, docs, lsi_mod, dictionary).flatten().tolist(),\n",
    "               'lda': sim_all_lda(single, docs, lda_mod, dictionary).flatten().tolist(), \n",
    "               'w2v': sim_all_w2v(single, docs, w2v_mod).flatten().tolist(), \n",
    "               'doc': sim_all(single, docs, dictionary).flatten().tolist()}\n",
    "    df = pd.DataFrame(sim_vec)\n",
    "    df.columns = [x+prefix for x in df.columns]\n",
    "    return df\n",
    "\n",
    "def sim_stackoverflow(single_dict, docs_df, columns, dictionary, \n",
    "                      lsi_mod, lda_mod, w2v_mod):\n",
    "    \"\"\"\n",
    "    single_dict is a dictionary...\n",
    "    \n",
    "    docs_df is dataframe\n",
    "    \n",
    "    \"\"\"\n",
    "    \n",
    "    #pd.concat([df1, df4], axis=1)\n",
    "    if columns is None:\n",
    "        columns = {'title': 'title', \n",
    "                   'body': 'bodyString', \n",
    "                   'tag': 'tagsString'}\n",
    "    #print columns\n",
    "    body_sim = sim_query_all(single_dict[columns['body']], docs_df[columns['body']].tolist(), \n",
    "                             dictionary, lsi_mod, lda_mod, w2v_mod, \"_body\")\n",
    "    title_sim = sim_query_all(single_dict[columns['title']], docs_df[columns['title']].tolist(), \n",
    "                             dictionary, lsi_mod, lda_mod, w2v_mod, \"_title\")\n",
    "    tag_sim = sim_query_all(single_dict[columns['tag']], docs_df[columns['tag']].tolist(), \n",
    "                             dictionary, lsi_mod, lda_mod, w2v_mod, \"_tag\")\n",
    "    \n",
    "    full_df = pd.concat([body_sim, title_sim, tag_sim], axis=1)\n",
    "    return full_df"
   ]
  },
  {
   "cell_type": "code",
   "execution_count": 94,
   "metadata": {
    "collapsed": false
   },
   "outputs": [
    {
     "data": {
      "text/html": [
       "<div>\n",
       "<table border=\"1\" class=\"dataframe\">\n",
       "  <thead>\n",
       "    <tr style=\"text-align: right;\">\n",
       "      <th></th>\n",
       "      <th>doc_body</th>\n",
       "      <th>lda_body</th>\n",
       "      <th>lsi_body</th>\n",
       "      <th>w2v_body</th>\n",
       "      <th>doc_title</th>\n",
       "      <th>lda_title</th>\n",
       "      <th>lsi_title</th>\n",
       "      <th>w2v_title</th>\n",
       "      <th>doc_tag</th>\n",
       "      <th>lda_tag</th>\n",
       "      <th>lsi_tag</th>\n",
       "      <th>w2v_tag</th>\n",
       "      <th>label</th>\n",
       "    </tr>\n",
       "  </thead>\n",
       "  <tbody>\n",
       "    <tr>\n",
       "      <th>count</th>\n",
       "      <td>62499.000000</td>\n",
       "      <td>62499.000000</td>\n",
       "      <td>62499.000000</td>\n",
       "      <td>62499.000000</td>\n",
       "      <td>62499.000000</td>\n",
       "      <td>62499.000000</td>\n",
       "      <td>62499.000000</td>\n",
       "      <td>62499.000000</td>\n",
       "      <td>62499.000000</td>\n",
       "      <td>62499.000000</td>\n",
       "      <td>62499.000000</td>\n",
       "      <td>62499.000000</td>\n",
       "      <td>62499.000000</td>\n",
       "    </tr>\n",
       "    <tr>\n",
       "      <th>mean</th>\n",
       "      <td>0.107023</td>\n",
       "      <td>0.324800</td>\n",
       "      <td>0.154382</td>\n",
       "      <td>0.893404</td>\n",
       "      <td>0.012779</td>\n",
       "      <td>0.180793</td>\n",
       "      <td>0.033475</td>\n",
       "      <td>0.742788</td>\n",
       "      <td>0.095002</td>\n",
       "      <td>0.314094</td>\n",
       "      <td>0.158746</td>\n",
       "      <td>0.842091</td>\n",
       "      <td>0.020320</td>\n",
       "    </tr>\n",
       "    <tr>\n",
       "      <th>std</th>\n",
       "      <td>0.108180</td>\n",
       "      <td>0.275779</td>\n",
       "      <td>0.133294</td>\n",
       "      <td>0.046012</td>\n",
       "      <td>0.081008</td>\n",
       "      <td>0.234265</td>\n",
       "      <td>0.121761</td>\n",
       "      <td>0.097612</td>\n",
       "      <td>0.183626</td>\n",
       "      <td>0.386350</td>\n",
       "      <td>0.283474</td>\n",
       "      <td>0.169038</td>\n",
       "      <td>0.141095</td>\n",
       "    </tr>\n",
       "    <tr>\n",
       "      <th>min</th>\n",
       "      <td>0.000000</td>\n",
       "      <td>0.003568</td>\n",
       "      <td>-0.055276</td>\n",
       "      <td>0.677800</td>\n",
       "      <td>0.000000</td>\n",
       "      <td>0.066703</td>\n",
       "      <td>-0.087266</td>\n",
       "      <td>0.000000</td>\n",
       "      <td>0.000000</td>\n",
       "      <td>0.035546</td>\n",
       "      <td>-0.119276</td>\n",
       "      <td>0.000000</td>\n",
       "      <td>0.000000</td>\n",
       "    </tr>\n",
       "    <tr>\n",
       "      <th>25%</th>\n",
       "      <td>0.029019</td>\n",
       "      <td>0.064078</td>\n",
       "      <td>0.057729</td>\n",
       "      <td>0.868148</td>\n",
       "      <td>0.000000</td>\n",
       "      <td>0.087272</td>\n",
       "      <td>-0.016586</td>\n",
       "      <td>0.705805</td>\n",
       "      <td>0.000000</td>\n",
       "      <td>0.057928</td>\n",
       "      <td>0.015844</td>\n",
       "      <td>0.840459</td>\n",
       "      <td>0.000000</td>\n",
       "    </tr>\n",
       "    <tr>\n",
       "      <th>50%</th>\n",
       "      <td>0.086103</td>\n",
       "      <td>0.229886</td>\n",
       "      <td>0.143478</td>\n",
       "      <td>0.891269</td>\n",
       "      <td>0.000000</td>\n",
       "      <td>0.100393</td>\n",
       "      <td>0.009193</td>\n",
       "      <td>0.741463</td>\n",
       "      <td>0.000000</td>\n",
       "      <td>0.070017</td>\n",
       "      <td>0.051864</td>\n",
       "      <td>0.876035</td>\n",
       "      <td>0.000000</td>\n",
       "    </tr>\n",
       "    <tr>\n",
       "      <th>75%</th>\n",
       "      <td>0.154369</td>\n",
       "      <td>0.508519</td>\n",
       "      <td>0.211684</td>\n",
       "      <td>0.928129</td>\n",
       "      <td>0.000000</td>\n",
       "      <td>0.125319</td>\n",
       "      <td>0.063044</td>\n",
       "      <td>0.803266</td>\n",
       "      <td>0.117851</td>\n",
       "      <td>0.555718</td>\n",
       "      <td>0.076179</td>\n",
       "      <td>0.914330</td>\n",
       "      <td>0.000000</td>\n",
       "    </tr>\n",
       "    <tr>\n",
       "      <th>max</th>\n",
       "      <td>1.000000</td>\n",
       "      <td>1.000000</td>\n",
       "      <td>1.000000</td>\n",
       "      <td>1.000000</td>\n",
       "      <td>1.000000</td>\n",
       "      <td>1.000000</td>\n",
       "      <td>1.000000</td>\n",
       "      <td>1.000000</td>\n",
       "      <td>1.000000</td>\n",
       "      <td>1.000000</td>\n",
       "      <td>1.000000</td>\n",
       "      <td>1.000000</td>\n",
       "      <td>1.000000</td>\n",
       "    </tr>\n",
       "  </tbody>\n",
       "</table>\n",
       "</div>"
      ],
      "text/plain": [
       "           doc_body      lda_body      lsi_body      w2v_body     doc_title  \\\n",
       "count  62499.000000  62499.000000  62499.000000  62499.000000  62499.000000   \n",
       "mean       0.107023      0.324800      0.154382      0.893404      0.012779   \n",
       "std        0.108180      0.275779      0.133294      0.046012      0.081008   \n",
       "min        0.000000      0.003568     -0.055276      0.677800      0.000000   \n",
       "25%        0.029019      0.064078      0.057729      0.868148      0.000000   \n",
       "50%        0.086103      0.229886      0.143478      0.891269      0.000000   \n",
       "75%        0.154369      0.508519      0.211684      0.928129      0.000000   \n",
       "max        1.000000      1.000000      1.000000      1.000000      1.000000   \n",
       "\n",
       "          lda_title     lsi_title     w2v_title       doc_tag       lda_tag  \\\n",
       "count  62499.000000  62499.000000  62499.000000  62499.000000  62499.000000   \n",
       "mean       0.180793      0.033475      0.742788      0.095002      0.314094   \n",
       "std        0.234265      0.121761      0.097612      0.183626      0.386350   \n",
       "min        0.066703     -0.087266      0.000000      0.000000      0.035546   \n",
       "25%        0.087272     -0.016586      0.705805      0.000000      0.057928   \n",
       "50%        0.100393      0.009193      0.741463      0.000000      0.070017   \n",
       "75%        0.125319      0.063044      0.803266      0.117851      0.555718   \n",
       "max        1.000000      1.000000      1.000000      1.000000      1.000000   \n",
       "\n",
       "            lsi_tag       w2v_tag         label  \n",
       "count  62499.000000  62499.000000  62499.000000  \n",
       "mean       0.158746      0.842091      0.020320  \n",
       "std        0.283474      0.169038      0.141095  \n",
       "min       -0.119276      0.000000      0.000000  \n",
       "25%        0.015844      0.840459      0.000000  \n",
       "50%        0.051864      0.876035      0.000000  \n",
       "75%        0.076179      0.914330      0.000000  \n",
       "max        1.000000      1.000000      1.000000  "
      ]
     },
     "execution_count": 94,
     "metadata": {},
     "output_type": "execute_result"
    }
   ],
   "source": [
    "###\n",
    "\n",
    "n_obs = 250\n",
    "f = FloatProgress(min=0, max=n_obs-1)\n",
    "display(f)\n",
    "\n",
    "train_subset = train.iloc[:250]\n",
    "train_labels = train_subset[['id', 'did']]\n",
    "train_labels.loc[:, 'label'] = 1\n",
    "\n",
    "m_ids = sorted(train_subset['id'].tolist(), key=lambda x: int(x))\n",
    "d_ids = sorted(train_subset['did'].tolist(), key=lambda x: int(x))\n",
    "\n",
    "ddict = {'title': 'dtitle', \n",
    "        'body': 'dbodyString', \n",
    "        'tag': 'dtagsString'}\n",
    "    \n",
    "train_feats = []\n",
    "\n",
    "for idx, m_id in enumerate(m_ids):\n",
    "    f.value = idx\n",
    "    train_temp = train_subset[train_subset['id'].astype(int) <= int(m_id)]\n",
    "    # restack dataframe...\n",
    "    dtrain_temp = train_temp[['dbodyString', 'dtagsString', 'dtitle', 'did']]\n",
    "    dtrain_temp.columns = [x[1:] for x in dtrain_temp.columns]\n",
    "    train_temp = train_temp[['id', 'title', 'bodyString', 'tagsString']]\n",
    "    train_temp = pd.concat([train_temp, dtrain_temp])\n",
    "    train_temp = train_temp[train_temp['id'] != m_id]\n",
    "    single_doc = train_subset[train_subset['id'] == m_ids[0]].to_dict(orient=\"records\")[0]\n",
    "    temp_feats = sim_stackoverflow(single_doc, train_temp, None, dictionary,\n",
    "              lsi_mod, lda_mod, w2v_mod)\n",
    "    # input column and dup col - to infer id. \n",
    "    temp_feats.loc[:, 'id'] = m_id\n",
    "    temp_feats.loc[:, 'did'] = train_temp['id'].tolist() \n",
    "    train_feats.append(temp_feats)\n",
    "    \n",
    "feature_df = pd.merge(pd.concat(train_feats), train_labels, on=['id', 'did'], how='left').drop_duplicates()\n",
    "feature_df['label'] = feature_df['label'].fillna(0)\n",
    "feature_df.describe()\n",
    "\n"
   ]
  },
  {
   "cell_type": "code",
   "execution_count": 95,
   "metadata": {
    "collapsed": true
   },
   "outputs": [],
   "source": [
    "#feature_df.to_pickle(\"feature_df_lda3.pkl\")"
   ]
  },
  {
   "cell_type": "code",
   "execution_count": 96,
   "metadata": {
    "collapsed": true
   },
   "outputs": [],
   "source": [
    "#feature_df = pd.read_pickle(\"feature.df.pkl\") # where the hell did this one come from??"
   ]
  },
  {
   "cell_type": "code",
   "execution_count": 97,
   "metadata": {
    "collapsed": true
   },
   "outputs": [],
   "source": [
    "X = feature_df[[u'doc_body', u'lda_body', u'lsi_body', u'w2v_body', u'doc_title',\n",
    "       u'lda_title', u'lsi_title', u'w2v_title', u'doc_tag', u'lda_tag',\n",
    "       u'lsi_tag', u'w2v_tag']].as_matrix()\n",
    "       \n",
    "Y = feature_df[['label']].as_matrix().flatten()"
   ]
  },
  {
   "cell_type": "code",
   "execution_count": 98,
   "metadata": {
    "collapsed": true
   },
   "outputs": [],
   "source": [
    "rf = RandomForestClassifier(bootstrap=True, class_weight=None, criterion='gini',\n",
    "            max_depth=None, max_features='auto', max_leaf_nodes=None,\n",
    "            min_impurity_split=1e-07, min_samples_leaf=1,\n",
    "            min_samples_split=2, min_weight_fraction_leaf=0.0,\n",
    "            n_estimators=10, n_jobs=2, oob_score=False, random_state=None,\n",
    "            verbose=0, warm_start=False)"
   ]
  },
  {
   "cell_type": "code",
   "execution_count": 99,
   "metadata": {
    "collapsed": false
   },
   "outputs": [
    {
     "name": "stdout",
     "output_type": "stream",
     "text": [
      "[[61228     1]\n",
      " [  412   858]]\n",
      "0.675590551181\n"
     ]
    }
   ],
   "source": [
    "\n",
    "\n",
    "rf.fit(X, Y)\n",
    "#grid_search.predict(X)\n",
    "\n",
    "print(confusion_matrix(Y, rf.predict(X)))\n",
    "print(recall_score(Y, rf.predict(X)))\n"
   ]
  },
  {
   "cell_type": "code",
   "execution_count": 18,
   "metadata": {
    "collapsed": false
   },
   "outputs": [
    {
     "name": "stdout",
     "output_type": "stream",
     "text": [
      "[[61229     0]\n",
      " [    1  1269]]\n",
      "0.999212598425\n"
     ]
    },
    {
     "name": "stderr",
     "output_type": "stream",
     "text": [
      "C:\\Program Files\\Anaconda2\\lib\\site-packages\\ipykernel\\__main__.py:39: FutureWarning: sort(columns=....) is deprecated, use sort_values(by=.....)\n"
     ]
    },
    {
     "data": {
      "text/plain": [
       "<matplotlib.axes._subplots.AxesSubplot at 0x133108d0>"
      ]
     },
     "execution_count": 18,
     "metadata": {},
     "output_type": "execute_result"
    },
    {
     "data": {
      "image/png": "[encoded data removed]",
      "text/plain": [
       "<matplotlib.figure.Figure at 0x122b2cf8>"
      ]
     },
     "metadata": {},
     "output_type": "display_data"
    }
   ],
   "source": [
    "# randomforest classifier\n",
    "clf = RandomForestClassifier(n_jobs=2)\n",
    "\n",
    "recall_scorer = make_scorer(recall_score)\n",
    "# use a full grid over all parameters\n",
    "\n",
    "param_grid = {\"n_estimators\": [1000],\n",
    "              \"max_depth\": [3, 6, None],\n",
    "              \"max_features\": [1, 3, 10, 'sqrt', 'log2'],\n",
    "              \"bootstrap\": [True],\n",
    "              \"criterion\": [\"gini\", \"entropy\"]}\n",
    "\n",
    "# run grid search\n",
    "grid_search = GridSearchCV(estimator=clf, \n",
    "                           param_grid=param_grid, \n",
    "                           scoring=recall_scorer)\n",
    "\n",
    "\n",
    "\n",
    "grid_search.fit(X, Y)\n",
    "#grid_search.predict(X)\n",
    "\n",
    "print(confusion_matrix(Y, grid_search.predict(X)))\n",
    "print(recall_score(Y, grid_search.predict(X)))\n",
    "\n",
    "\n",
    "\n",
    "\n",
    "\n",
    "# build tree to see important feats?\n",
    "feat_importance = grid_search.estimator.fit(X,Y).feature_importances_\n",
    "\n",
    "feat_df = pd.DataFrame({\n",
    "    'importances': feat_importance,\n",
    "    'names': [u'doc_body', u'lda_body', u'lsi_body', u'w2v_body', u'doc_title',\n",
    "       u'lda_title', u'lsi_title', u'w2v_title', u'doc_tag', u'lda_tag',\n",
    "       u'lsi_tag', u'w2v_tag']\n",
    "                        })\n",
    "feat_df = feat_df.sort(['importances'], ascending=False)\n",
    "feat_df.plot.bar(x=\"names\", y=\"importances\")"
   ]
  },
  {
   "cell_type": "code",
   "execution_count": 19,
   "metadata": {
    "collapsed": false
   },
   "outputs": [
    {
     "data": {
      "text/plain": [
       "RandomForestClassifier(bootstrap=True, class_weight=None, criterion='gini',\n",
       "            max_depth=None, max_features='auto', max_leaf_nodes=None,\n",
       "            min_impurity_split=1e-07, min_samples_leaf=1,\n",
       "            min_samples_split=2, min_weight_fraction_leaf=0.0,\n",
       "            n_estimators=10, n_jobs=2, oob_score=False, random_state=None,\n",
       "            verbose=0, warm_start=False)"
      ]
     },
     "execution_count": 19,
     "metadata": {},
     "output_type": "execute_result"
    }
   ],
   "source": [
    "grid_search.estimator\n",
    "\n",
    "\"\"\"\n",
    "RandomForestClassifier(bootstrap=True, class_weight=None, criterion='gini',\n",
    "            max_depth=None, max_features='auto', max_leaf_nodes=None,\n",
    "            min_impurity_split=1e-07, min_samples_leaf=1,\n",
    "            min_samples_split=2, min_weight_fraction_leaf=0.0,\n",
    "            n_estimators=10, n_jobs=2, oob_score=False, random_state=None,\n",
    "            verbose=0, warm_start=False)\n",
    "\"\"\""
   ]
  },
  {
   "cell_type": "code",
   "execution_count": null,
   "metadata": {
    "collapsed": true
   },
   "outputs": [],
   "source": []
  }
 ],
 "metadata": {
  "anaconda-cloud": {},
  "kernelspec": {
   "display_name": "Python [default]",
   "language": "python",
   "name": "python2"
  },
  "language_info": {
   "codemirror_mode": {
    "name": "ipython",
    "version": 2
   },
   "file_extension": ".py",
   "mimetype": "text/x-python",
   "name": "python",
   "nbconvert_exporter": "python",
   "pygments_lexer": "ipython2",
   "version": "2.7.12"
  },
  "widgets": {
   "state": {
    "6d9b9c49e3624dee8f809bdcbed2cf6a": {
     "views": [
      {
       "cell_index": 5
      }
     ]
    }
   },
   "version": "1.2.0"
  }
 },
 "nbformat": 4,
 "nbformat_minor": 1
}
