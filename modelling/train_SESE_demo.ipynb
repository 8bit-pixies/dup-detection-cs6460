{
 "cells": [
  {
   "cell_type": "code",
   "execution_count": 1,
   "metadata": {
    "collapsed": false
   },
   "outputs": [
    {
     "name": "stderr",
     "output_type": "stream",
     "text": [
      "C:\\Program Files\\Anaconda2\\lib\\site-packages\\IPython\\html.py:14: ShimWarning: The `IPython.html` package has been deprecated. You should import from `notebook` instead. `IPython.html.widgets` has moved to `ipywidgets`.\n",
      "  \"`IPython.html.widgets` has moved to `ipywidgets`.\", ShimWarning)\n"
     ]
    }
   ],
   "source": [
    "%matplotlib inline\n",
    "from IPython.html.widgets import FloatProgress\n",
    "from IPython.display import display"
   ]
  },
  {
   "cell_type": "code",
   "execution_count": 2,
   "metadata": {
    "collapsed": false
   },
   "outputs": [
    {
     "name": "stderr",
     "output_type": "stream",
     "text": [
      "C:\\Program Files\\Anaconda2\\lib\\site-packages\\gensim-0.13.3-py2.7-win-amd64.egg\\gensim\\utils.py:840: UserWarning: detected Windows; aliasing chunkize to chunkize_serial\n",
      "  warnings.warn(\"detected Windows; aliasing chunkize to chunkize_serial\")\n",
      "C:\\Program Files\\Anaconda2\\lib\\site-packages\\gensim-0.13.3-py2.7-win-amd64.egg\\gensim\\utils.py:1015: UserWarning: Pattern library is not installed, lemmatization won't be available.\n",
      "  warnings.warn(\"Pattern library is not installed, lemmatization won't be available.\")\n",
      "C:\\Program Files\\Anaconda2\\lib\\site-packages\\sklearn\\cross_validation.py:44: DeprecationWarning: This module was deprecated in version 0.18 in favor of the model_selection module into which all the refactored classes and functions are moved. Also note that the interface of the new CV iterators are different from that of this module. This module will be removed in 0.20.\n",
      "  \"This module will be removed in 0.20.\", DeprecationWarning)\n",
      "C:\\Program Files\\Anaconda2\\lib\\site-packages\\sklearn\\grid_search.py:43: DeprecationWarning: This module was deprecated in version 0.18 in favor of the model_selection module into which all the refactored classes and functions are moved. This module will be removed in 0.20.\n",
      "  DeprecationWarning)\n"
     ]
    }
   ],
   "source": [
    "\n",
    "import gensim\n",
    "import pandas as pd\n",
    "import numpy as np\n",
    "from sklearn.metrics import recall_score, make_scorer, confusion_matrix, precision_score\n",
    "from sklearn.grid_search import GridSearchCV\n",
    "from sklearn.linear_model import SGDClassifier\n",
    "\n",
    "import matplotlib.pyplot as plt\n",
    "\n",
    "from create_dictionary import train_corpus, transform_doc2bow, tokenize\n",
    "from sklearn.metrics.pairwise import cosine_similarity\n",
    "\n",
    "from online_lsi_sim import sim_two_lsi, sim_all_lsi\n",
    "from online_lda_sim import sim_two_lda, sim_all_lda\n",
    "from word2vec_sim import sim_two_w2v, sim_all_w2v\n",
    "from doc_sim import sim_two, sim_all\n",
    "\n",
    "from create_model import *\n"
   ]
  },
  {
   "cell_type": "code",
   "execution_count": 3,
   "metadata": {
    "collapsed": false
   },
   "outputs": [
    {
     "name": "stdout",
     "output_type": "stream",
     "text": [
      "training lda...\n",
      "training lsi...\n",
      "training word2vec...\n"
     ]
    },
    {
     "data": {
      "text/plain": [
       "227177"
      ]
     },
     "execution_count": 3,
     "metadata": {},
     "output_type": "execute_result"
    }
   ],
   "source": [
    "\n",
    "dictionary = gensim.corpora.Dictionary.load(\"../data/SESE.gz\")\n",
    "fname = \"../SESE/cleaned/sql-html-sample.csv\"\n",
    "\n",
    "so_dat = pd.read_csv(fname)\n",
    "so_dat_main = so_dat[['id', 'title', 'bodyString', 'tagsString']]\n",
    "\n",
    "label_dat = pd.read_csv(\"../SESE/labels/sql-html-js-2_labels.csv\")\n",
    "\n",
    "\n",
    "# build each feature, and model\n",
    "corpus = train_corpus(so_dat_main['bodyString'].tolist(), dictionary)\n",
    "\n",
    "# all these models have online learning support\n",
    "print \"training lda...\"\n",
    "lda_mod = gensim.models.ldamodel.LdaModel(corpus, id2word=dictionary, num_topics=7, minimum_probability=0.0)\n",
    "print \"training lsi...\"\n",
    "lsi_mod = gensim.models.lsimodel.LsiModel(corpus, id2word=dictionary, num_topics=100)\n",
    "print \"training word2vec...\"\n",
    "w2v_mod = gensim.models.Word2Vec(min_count=5, sg=5)\n",
    "sentences = [tokenize(x) for x in so_dat_main['bodyString'].tolist()]\n",
    "w2v_mod.build_vocab(sentences )\n",
    "w2v_mod.train(sentences)"
   ]
  },
  {
   "cell_type": "code",
   "execution_count": 4,
   "metadata": {
    "collapsed": true
   },
   "outputs": [],
   "source": [
    "\n",
    "# do left join with labels.....\n",
    "dat_combine = pd.merge(so_dat_main, label_dat)\n",
    "\n",
    "# basically perform negative sampling to find weights to optimize these two cases....\n",
    "\n",
    "# do stuff and output training dataset....(figure out how...)\n",
    "# will be adhoc for future...\n",
    "\n",
    "# train for recall..\n",
    "\n",
    "# get the dups...\n",
    "train = pd.read_csv(\"../SESE/cleaned/2016_link_dups_time_fix.csv\")"
   ]
  },
  {
   "cell_type": "code",
   "execution_count": 5,
   "metadata": {
    "collapsed": true
   },
   "outputs": [],
   "source": [
    "def sim_query_all(single, docs, dictionary,\n",
    "              lsi_mod, lda_mod, w2v_mod, prefix=\"\"):\n",
    "    \"\"\"takes in two documents and computes similarity between\n",
    "    both based on the models above, with all equal weights\"\"\"\n",
    "    \n",
    "    sim_vec = {'lsi': sim_all_lsi(single, docs, lsi_mod, dictionary).flatten().tolist(),\n",
    "               'lda': sim_all_lda(single, docs, lda_mod, dictionary).flatten().tolist(), \n",
    "               'w2v': sim_all_w2v(single, docs, w2v_mod).flatten().tolist(), \n",
    "               'doc': sim_all(single, docs, dictionary).flatten().tolist()}\n",
    "    df = pd.DataFrame(sim_vec)\n",
    "    df.columns = [x+prefix for x in df.columns]\n",
    "    return df\n",
    "\n",
    "def sim_stackoverflow(single_dict, docs_df, columns, dictionary, \n",
    "                      lsi_mod, lda_mod, w2v_mod):\n",
    "    \"\"\"\n",
    "    single_dict is a dictionary...\n",
    "    \n",
    "    docs_df is dataframe\n",
    "    \n",
    "    \"\"\"\n",
    "    \n",
    "    #pd.concat([df1, df4], axis=1)\n",
    "    if columns is None:\n",
    "        columns = {'title': 'title', \n",
    "                   'body': 'bodyString', \n",
    "                   'tag': 'tagsString'}\n",
    "    #print columns\n",
    "    body_sim = sim_query_all(single_dict[columns['body']], docs_df[columns['body']].tolist(), \n",
    "                             dictionary, lsi_mod, lda_mod, w2v_mod, \"_body\")\n",
    "    title_sim = sim_query_all(single_dict[columns['title']], docs_df[columns['title']].tolist(), \n",
    "                             dictionary, lsi_mod, lda_mod, w2v_mod, \"_title\")\n",
    "    tag_sim = sim_query_all(single_dict[columns['tag']], docs_df[columns['tag']].tolist(), \n",
    "                             dictionary, lsi_mod, lda_mod, w2v_mod, \"_tag\")\n",
    "    \n",
    "    full_df = pd.concat([body_sim, title_sim, tag_sim], axis=1)\n",
    "    return full_df"
   ]
  },
  {
   "cell_type": "code",
   "execution_count": 6,
   "metadata": {
    "collapsed": false
   },
   "outputs": [
    {
     "name": "stderr",
     "output_type": "stream",
     "text": [
      "C:\\Program Files\\Anaconda2\\lib\\site-packages\\pandas\\core\\indexing.py:288: SettingWithCopyWarning: \n",
      "A value is trying to be set on a copy of a slice from a DataFrame.\n",
      "Try using .loc[row_indexer,col_indexer] = value instead\n",
      "\n",
      "See the caveats in the documentation: http://pandas.pydata.org/pandas-docs/stable/indexing.html#indexing-view-versus-copy\n",
      "  self.obj[key] = _infer_fill_value(value)\n",
      "C:\\Program Files\\Anaconda2\\lib\\site-packages\\pandas\\core\\indexing.py:465: SettingWithCopyWarning: \n",
      "A value is trying to be set on a copy of a slice from a DataFrame.\n",
      "Try using .loc[row_indexer,col_indexer] = value instead\n",
      "\n",
      "See the caveats in the documentation: http://pandas.pydata.org/pandas-docs/stable/indexing.html#indexing-view-versus-copy\n",
      "  self.obj[item] = s\n"
     ]
    }
   ],
   "source": [
    "###\n",
    "\n",
    "n_obs = 25\n",
    "f = FloatProgress(min=0, max=n_obs-1)\n",
    "display(f)\n",
    "\n",
    "train_subset = train.iloc[:n_obs]\n",
    "train_labels = train_subset[['id', 'did']]\n",
    "train_labels.loc[:, 'label'] = 1\n",
    "\n",
    "m_ids = sorted(train_subset['id'].tolist(), key=lambda x: int(x))\n",
    "d_ids = sorted(train_subset['did'].tolist(), key=lambda x: int(x))\n",
    "\n",
    "ddict = {'title': 'dtitle', \n",
    "        'body': 'dbodyString', \n",
    "        'tag': 'dtagsString'}\n",
    "    \n",
    "train_feats = []\n",
    "\n",
    "for idx, m_id in enumerate(m_ids):\n",
    "    f.value = idx\n",
    "    train_temp = train_subset[train_subset['id'].astype(int) <= int(m_id)]\n",
    "    # restack dataframe...\n",
    "    dtrain_temp = train_temp[['dbodyString', 'dtagsString', 'dtitle', 'did']]\n",
    "    dtrain_temp.columns = [x[1:] for x in dtrain_temp.columns]\n",
    "    train_temp = train_temp[['id', 'title', 'bodyString', 'tagsString']]\n",
    "    train_temp = pd.concat([train_temp, dtrain_temp])\n",
    "    train_temp = train_temp[train_temp['id'] != m_id]\n",
    "    single_doc = train_subset[train_subset['id'] == m_ids[0]].to_dict(orient=\"records\")[0]\n",
    "    temp_feats = sim_stackoverflow(single_doc, train_temp, None, dictionary,\n",
    "              lsi_mod, lda_mod, w2v_mod)\n",
    "    # input column and dup col - to infer id. \n",
    "    temp_feats.loc[:, 'id'] = m_id\n",
    "    temp_feats.loc[:, 'did'] = train_temp['id'].tolist() \n",
    "    train_feats.append(temp_feats)\n",
    "    \n",
    "\n",
    "\n"
   ]
  },
  {
   "cell_type": "code",
   "execution_count": 7,
   "metadata": {
    "collapsed": false
   },
   "outputs": [
    {
     "data": {
      "text/html": [
       "<div>\n",
       "<table border=\"1\" class=\"dataframe\">\n",
       "  <thead>\n",
       "    <tr style=\"text-align: right;\">\n",
       "      <th></th>\n",
       "      <th>doc_body</th>\n",
       "      <th>lda_body</th>\n",
       "      <th>lsi_body</th>\n",
       "      <th>w2v_body</th>\n",
       "      <th>doc_title</th>\n",
       "      <th>lda_title</th>\n",
       "      <th>lsi_title</th>\n",
       "      <th>w2v_title</th>\n",
       "      <th>doc_tag</th>\n",
       "      <th>lda_tag</th>\n",
       "      <th>lsi_tag</th>\n",
       "      <th>w2v_tag</th>\n",
       "      <th>label</th>\n",
       "    </tr>\n",
       "  </thead>\n",
       "  <tbody>\n",
       "    <tr>\n",
       "      <th>count</th>\n",
       "      <td>625.000000</td>\n",
       "      <td>625.000000</td>\n",
       "      <td>625.000000</td>\n",
       "      <td>625.000000</td>\n",
       "      <td>625.000000</td>\n",
       "      <td>625.000000</td>\n",
       "      <td>625.000000</td>\n",
       "      <td>625.000000</td>\n",
       "      <td>625.000000</td>\n",
       "      <td>625.000000</td>\n",
       "      <td>625.000000</td>\n",
       "      <td>625.000000</td>\n",
       "      <td>625.000000</td>\n",
       "    </tr>\n",
       "    <tr>\n",
       "      <th>mean</th>\n",
       "      <td>0.112915</td>\n",
       "      <td>0.301109</td>\n",
       "      <td>0.158275</td>\n",
       "      <td>0.934699</td>\n",
       "      <td>0.067345</td>\n",
       "      <td>0.256765</td>\n",
       "      <td>0.114219</td>\n",
       "      <td>0.861393</td>\n",
       "      <td>0.310540</td>\n",
       "      <td>0.259524</td>\n",
       "      <td>0.547464</td>\n",
       "      <td>0.856672</td>\n",
       "      <td>0.078400</td>\n",
       "    </tr>\n",
       "    <tr>\n",
       "      <th>std</th>\n",
       "      <td>0.189818</td>\n",
       "      <td>0.316288</td>\n",
       "      <td>0.198038</td>\n",
       "      <td>0.050624</td>\n",
       "      <td>0.214581</td>\n",
       "      <td>0.286520</td>\n",
       "      <td>0.268195</td>\n",
       "      <td>0.066718</td>\n",
       "      <td>0.265472</td>\n",
       "      <td>0.307823</td>\n",
       "      <td>0.392171</td>\n",
       "      <td>0.196892</td>\n",
       "      <td>0.269015</td>\n",
       "    </tr>\n",
       "    <tr>\n",
       "      <th>min</th>\n",
       "      <td>0.000000</td>\n",
       "      <td>0.016656</td>\n",
       "      <td>-0.055343</td>\n",
       "      <td>0.761848</td>\n",
       "      <td>0.000000</td>\n",
       "      <td>0.089186</td>\n",
       "      <td>-0.066210</td>\n",
       "      <td>0.652294</td>\n",
       "      <td>0.000000</td>\n",
       "      <td>0.096574</td>\n",
       "      <td>-0.082220</td>\n",
       "      <td>0.000000</td>\n",
       "      <td>0.000000</td>\n",
       "    </tr>\n",
       "    <tr>\n",
       "      <th>25%</th>\n",
       "      <td>0.025211</td>\n",
       "      <td>0.025841</td>\n",
       "      <td>0.046591</td>\n",
       "      <td>0.927748</td>\n",
       "      <td>0.000000</td>\n",
       "      <td>0.111537</td>\n",
       "      <td>-0.014362</td>\n",
       "      <td>0.805685</td>\n",
       "      <td>0.000000</td>\n",
       "      <td>0.102781</td>\n",
       "      <td>0.149296</td>\n",
       "      <td>0.837274</td>\n",
       "      <td>0.000000</td>\n",
       "    </tr>\n",
       "    <tr>\n",
       "      <th>50%</th>\n",
       "      <td>0.055057</td>\n",
       "      <td>0.125579</td>\n",
       "      <td>0.089400</td>\n",
       "      <td>0.951121</td>\n",
       "      <td>0.000000</td>\n",
       "      <td>0.139279</td>\n",
       "      <td>0.026831</td>\n",
       "      <td>0.860685</td>\n",
       "      <td>0.316228</td>\n",
       "      <td>0.125424</td>\n",
       "      <td>0.512976</td>\n",
       "      <td>0.928112</td>\n",
       "      <td>0.000000</td>\n",
       "    </tr>\n",
       "    <tr>\n",
       "      <th>75%</th>\n",
       "      <td>0.129206</td>\n",
       "      <td>0.468439</td>\n",
       "      <td>0.189108</td>\n",
       "      <td>0.969925</td>\n",
       "      <td>0.000000</td>\n",
       "      <td>0.152613</td>\n",
       "      <td>0.076694</td>\n",
       "      <td>0.911082</td>\n",
       "      <td>0.408248</td>\n",
       "      <td>0.152500</td>\n",
       "      <td>0.933392</td>\n",
       "      <td>0.957710</td>\n",
       "      <td>0.000000</td>\n",
       "    </tr>\n",
       "    <tr>\n",
       "      <th>max</th>\n",
       "      <td>1.000000</td>\n",
       "      <td>1.000000</td>\n",
       "      <td>1.000000</td>\n",
       "      <td>1.000000</td>\n",
       "      <td>1.000000</td>\n",
       "      <td>1.000000</td>\n",
       "      <td>1.000000</td>\n",
       "      <td>1.000000</td>\n",
       "      <td>1.000000</td>\n",
       "      <td>1.000000</td>\n",
       "      <td>1.000000</td>\n",
       "      <td>1.000000</td>\n",
       "      <td>1.000000</td>\n",
       "    </tr>\n",
       "  </tbody>\n",
       "</table>\n",
       "</div>"
      ],
      "text/plain": [
       "         doc_body    lda_body    lsi_body    w2v_body   doc_title   lda_title  \\\n",
       "count  625.000000  625.000000  625.000000  625.000000  625.000000  625.000000   \n",
       "mean     0.112915    0.301109    0.158275    0.934699    0.067345    0.256765   \n",
       "std      0.189818    0.316288    0.198038    0.050624    0.214581    0.286520   \n",
       "min      0.000000    0.016656   -0.055343    0.761848    0.000000    0.089186   \n",
       "25%      0.025211    0.025841    0.046591    0.927748    0.000000    0.111537   \n",
       "50%      0.055057    0.125579    0.089400    0.951121    0.000000    0.139279   \n",
       "75%      0.129206    0.468439    0.189108    0.969925    0.000000    0.152613   \n",
       "max      1.000000    1.000000    1.000000    1.000000    1.000000    1.000000   \n",
       "\n",
       "        lsi_title   w2v_title     doc_tag     lda_tag     lsi_tag     w2v_tag  \\\n",
       "count  625.000000  625.000000  625.000000  625.000000  625.000000  625.000000   \n",
       "mean     0.114219    0.861393    0.310540    0.259524    0.547464    0.856672   \n",
       "std      0.268195    0.066718    0.265472    0.307823    0.392171    0.196892   \n",
       "min     -0.066210    0.652294    0.000000    0.096574   -0.082220    0.000000   \n",
       "25%     -0.014362    0.805685    0.000000    0.102781    0.149296    0.837274   \n",
       "50%      0.026831    0.860685    0.316228    0.125424    0.512976    0.928112   \n",
       "75%      0.076694    0.911082    0.408248    0.152500    0.933392    0.957710   \n",
       "max      1.000000    1.000000    1.000000    1.000000    1.000000    1.000000   \n",
       "\n",
       "            label  \n",
       "count  625.000000  \n",
       "mean     0.078400  \n",
       "std      0.269015  \n",
       "min      0.000000  \n",
       "25%      0.000000  \n",
       "50%      0.000000  \n",
       "75%      0.000000  \n",
       "max      1.000000  "
      ]
     },
     "execution_count": 7,
     "metadata": {},
     "output_type": "execute_result"
    }
   ],
   "source": [
    "feature_df = pd.merge(pd.concat(train_feats), train_labels, on=['id', 'did'], how='left').drop_duplicates()\n",
    "feature_df.loc[:, 'label'] = feature_df['label'].fillna(0)\n",
    "feature_df.describe()"
   ]
  },
  {
   "cell_type": "code",
   "execution_count": 8,
   "metadata": {
    "collapsed": true
   },
   "outputs": [],
   "source": [
    "X = feature_df[[u'doc_body', u'lda_body', u'lsi_body', u'w2v_body', u'doc_title',\n",
    "       u'lda_title', u'lsi_title', u'w2v_title', u'doc_tag', u'lda_tag',\n",
    "       u'lsi_tag', u'w2v_tag']].as_matrix()\n",
    "       \n",
    "Y = feature_df[['label']].as_matrix().flatten()"
   ]
  },
  {
   "cell_type": "code",
   "execution_count": 9,
   "metadata": {
    "collapsed": false
   },
   "outputs": [
    {
     "name": "stdout",
     "output_type": "stream",
     "text": [
      "[[576   0]\n",
      " [ 14  35]]\n",
      "0.714285714286\n"
     ]
    }
   ],
   "source": [
    "from sklearn.ensemble import RandomForestClassifier\n",
    "\n",
    "clf = RandomForestClassifier()\n",
    "\n",
    "clf.fit(X, Y)\n",
    "#grid_search.predict(X)\n",
    "\n",
    "print(confusion_matrix(Y, clf.predict(X)))\n",
    "print(recall_score(Y, clf.predict(X)))"
   ]
  },
  {
   "cell_type": "code",
   "execution_count": 10,
   "metadata": {
    "collapsed": false
   },
   "outputs": [
    {
     "name": "stderr",
     "output_type": "stream",
     "text": [
      "C:\\Program Files\\Anaconda2\\lib\\site-packages\\ipykernel\\__main__.py:10: FutureWarning: sort(columns=....) is deprecated, use sort_values(by=.....)\n"
     ]
    },
    {
     "data": {
      "text/plain": [
       "<matplotlib.axes._subplots.AxesSubplot at 0x113712b0>"
      ]
     },
     "execution_count": 10,
     "metadata": {},
     "output_type": "execute_result"
    },
    {
     "data": {
      "image/png": "[encoded data removed]",
      "text/plain": [
       "<matplotlib.figure.Figure at 0x11362780>"
      ]
     },
     "metadata": {},
     "output_type": "display_data"
    }
   ],
   "source": [
    "# build tree to see important feats?\n",
    "feat_importance = clf.fit(X,Y).feature_importances_\n",
    "\n",
    "feat_df = pd.DataFrame({\n",
    "    'importances': feat_importance,\n",
    "    'names': [u'doc_body', u'lda_body', u'lsi_body', u'w2v_body', u'doc_title',\n",
    "       u'lda_title', u'lsi_title', u'w2v_title', u'doc_tag', u'lda_tag',\n",
    "       u'lsi_tag', u'w2v_tag']\n",
    "                        })\n",
    "feat_df = feat_df.sort(['importances'], ascending=False)\n",
    "feat_df.plot.bar(x=\"names\", y=\"importances\")"
   ]
  }
 ],
 "metadata": {
  "anaconda-cloud": {},
  "kernelspec": {
   "display_name": "Python [default]",
   "language": "python",
   "name": "python2"
  },
  "language_info": {
   "codemirror_mode": {
    "name": "ipython",
    "version": 2
   },
   "file_extension": ".py",
   "mimetype": "text/x-python",
   "name": "python",
   "nbconvert_exporter": "python",
   "pygments_lexer": "ipython2",
   "version": "2.7.12"
  },
  "widgets": {
   "state": {
    "67e26350f597422eb3f89aa0379854ce": {
     "views": [
      {
       "cell_index": 5
      }
     ]
    }
   },
   "version": "1.2.0"
  }
 },
 "nbformat": 4,
 "nbformat_minor": 1
}
